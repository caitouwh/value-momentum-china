{
 "cells": [
  {
   "cell_type": "code",
   "execution_count": 2,
   "metadata": {
    "collapsed": false
   },
   "outputs": [],
   "source": [
    "import pandas\n",
    "import pickle as pickle\n",
    "import backtest\n",
    "import numpy\n",
    "import math\n",
    "\n",
    "%matplotlib inline\n",
    "import matplotlib.pyplot as plt\n",
    "plt.style.use('ggplot')\n",
    "%config InlineBackend.figure_format = 'svg'"
   ]
  },
  {
   "cell_type": "code",
   "execution_count": 3,
   "metadata": {
    "collapsed": false
   },
   "outputs": [],
   "source": [
    "# index data\n",
    "chsashr_pi = pandas.read_csv('csvs/index_chsashr.csv')\n",
    "chsashr_pi['dates'] = chsashr_pi['Unnamed: 0']\n",
    "chsashr_pi = chsashr_pi.set_index('dates')\n",
    "chsashr_pi = chsashr_pi.drop('Unnamed: 0', 1)\n",
    "chsashr_pi['index_returns'] = chsashr_pi['PI'].pct_change()\n",
    "chsashr_pi['index_returns'] = chsashr_pi['index_returns'] + 1\n",
    "\n",
    "chzashr_pi = pandas.read_csv('csvs/index_chzashr.csv')\n",
    "chzashr_pi['dates'] = chzashr_pi['Unnamed: 0']\n",
    "chzashr_pi = chzashr_pi.set_index('dates')\n",
    "chzashr_pi = chzashr_pi.drop('Unnamed: 0', 1)\n",
    "chzashr_pi['index_returns'] = chzashr_pi['PI'].pct_change()\n",
    "chzashr_pi['index_returns'] = chzashr_pi['index_returns'] + 1"
   ]
  },
  {
   "cell_type": "code",
   "execution_count": 4,
   "metadata": {
    "collapsed": true
   },
   "outputs": [],
   "source": [
    "# df_sh = pickle.load(open('temp/df_sh.pkl', 'rb'))\n",
    "# date_sh = pickle.load(open('temp/date_sh.pkl', 'rb'))\n",
    "# dates = pickle.load(open('temp/dates.pkl', 'rb'))\n",
    "# universes = pickle.load(open('temp/universes_sh.pkl', 'rb'))\n",
    "# signals_value_sh = pickle.load(open('temp/signals_value_sh.pkl', 'rb'))\n",
    "\n",
    "df_sh = pickle.load(open('temp_momentum/df_sh.pkl', 'rb'))\n",
    "date_sh = pickle.load(open('temp_momentum/date_sh.pkl', 'rb'))\n",
    "dates = pickle.load(open('temp_momentum/dates.pkl', 'rb'))\n",
    "universes = pickle.load(open('temp_momentum/universes_sh.pkl', 'rb'))\n",
    "signals_value_sh = pickle.load(open('temp_momentum/signals_momentum_sh.pkl', 'rb'))"
   ]
  },
  {
   "cell_type": "code",
   "execution_count": null,
   "metadata": {
    "collapsed": false
   },
   "outputs": [],
   "source": [
    "period_returns = []\n",
    "dates_used = []\n",
    "\n",
    "holding_period = 4\n",
    "\n",
    "for i in range(0, len(dates) - holding_period, holding_period):\n",
    "    date_t0 = dates[i]\n",
    "    date_t1 = dates[i + holding_period]\n",
    "    period_return = backtest.period_return(signals_value_sh[i], df_sh, date_t0, date_t1)\n",
    "    period_returns.append(period_return)\n",
    "    dates_used.append(date_t0)\n",
    "\n",
    "pickle.dump(period_returns, open('temp/period_returns_sh.pkl', 'wb'))"
   ]
  },
  {
   "cell_type": "code",
   "execution_count": null,
   "metadata": {
    "collapsed": false
   },
   "outputs": [],
   "source": [
    "period_returns_sh = pickle.load(open('temp/period_returns_sh.pkl', 'rb'))\n",
    "plot_data = pandas.DataFrame({'returns': period_returns_sh, 'dates': dates_used})\n",
    "plot_data['dates'] = pandas.to_datetime(plot_data['dates'])\n",
    "plot_data = plot_data.set_index('dates')\n",
    "plot_data['returns'] = plot_data['returns'] + 1\n",
    "plot_data['returns_cumprod'] = plot_data['returns'].cumprod()\n",
    "plot_data = plot_data.merge(chsashr_pi, left_index=True, right_index=True)\n",
    "plot_data['index_returns_cumprod'] = plot_data['index_returns'].cumprod()\n",
    "plot_data['returns_std'] = plot_data['returns_cumprod'].rolling(window=52, min_periods=52).std()\n",
    "plot_data['returns_annualized'] = (plot_data['returns_cumprod'] - plot_data['returns_cumprod'].shift(52)) / plot_data['returns_cumprod'].shift(52)\n",
    "plot_data['index_returns_std'] = plot_data['index_returns_cumprod'].rolling(window=52, min_periods=52).std()\n",
    "plot_data['index_returns_annualized'] = (plot_data['index_returns_cumprod'] - plot_data['index_returns_cumprod'].shift(52)) / plot_data['index_returns_cumprod'].shift(52)\n",
    "\n",
    "# plot_data\n",
    "plot_data[['index_returns_cumprod', 'returns_cumprod']].plot()"
   ]
  }
 ],
 "metadata": {
  "kernelspec": {
   "display_name": "Python 3",
   "language": "python",
   "name": "python3"
  },
  "language_info": {
   "codemirror_mode": {
    "name": "ipython",
    "version": 3
   },
   "file_extension": ".py",
   "mimetype": "text/x-python",
   "name": "python",
   "nbconvert_exporter": "python",
   "pygments_lexer": "ipython3",
   "version": "3.5.1"
  }
 },
 "nbformat": 4,
 "nbformat_minor": 0
}
