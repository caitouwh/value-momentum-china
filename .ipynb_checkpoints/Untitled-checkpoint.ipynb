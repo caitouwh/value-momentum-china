{
 "cells": [
  {
   "cell_type": "code",
   "execution_count": 8,
   "metadata": {
    "collapsed": true
   },
   "outputs": [],
   "source": [
    "import pydatastream\n",
    "from pydatastream import Datastream\n",
    "import os\n",
    "\n",
    "credentials = {}\n",
    "with open('credentials.txt', 'r') as credentials_file:\n",
    "  line = credentials_file.readline().split(',')\n",
    "  credentials['username'] = line[0].strip()\n",
    "  credentials['password'] = line[1].strip()\n",
    "\n",
    "DWE = Datastream(username=credentials['username'], password=credentials['password'])\n",
    "DWE.raise_on_error = False"
   ]
  },
  {
   "cell_type": "code",
   "execution_count": 13,
   "metadata": {
    "collapsed": false
   },
   "outputs": [],
   "source": [
    "constituents = DWE.get_constituents('CHSCOMP')"
   ]
  },
  {
   "cell_type": "code",
   "execution_count": 14,
   "metadata": {
    "collapsed": false
   },
   "outputs": [
    {
     "name": "stdout",
     "output_type": "stream",
     "text": [
      "<class 'pandas.core.frame.DataFrame'>\n",
      "RangeIndex: 1131 entries, 0 to 1130\n",
      "Data columns (total 22 columns):\n",
      "CCY       1131 non-null object\n",
      "DSCD      1131 non-null object\n",
      "EXMNEM    1131 non-null object\n",
      "GEOG      1131 non-null object\n",
      "GEOGC     1131 non-null object\n",
      "IBTKR     1131 non-null object\n",
      "INDC      1131 non-null object\n",
      "INDG      1131 non-null object\n",
      "INDM      1131 non-null object\n",
      "INDX      1131 non-null object\n",
      "INDXEG    1131 non-null object\n",
      "INDXFS    1131 non-null object\n",
      "INDXL     1131 non-null object\n",
      "INDXS     1131 non-null object\n",
      "ISIN      1131 non-null object\n",
      "ISINID    1131 non-null object\n",
      "LOC       1131 non-null object\n",
      "MNEM      1131 non-null object\n",
      "NAME      1131 non-null object\n",
      "SECD      1131 non-null object\n",
      "SYMBOL    1131 non-null object\n",
      "TYPE      1131 non-null object\n",
      "dtypes: object(22)\n",
      "memory usage: 194.5+ KB\n"
     ]
    }
   ],
   "source": [
    "constituents.info()"
   ]
  }
 ],
 "metadata": {
  "kernelspec": {
   "display_name": "Python 2",
   "language": "python",
   "name": "python2"
  },
  "language_info": {
   "codemirror_mode": {
    "name": "ipython",
    "version": 2
   },
   "file_extension": ".py",
   "mimetype": "text/x-python",
   "name": "python",
   "nbconvert_exporter": "python",
   "pygments_lexer": "ipython2",
   "version": "2.7.9"
  }
 },
 "nbformat": 4,
 "nbformat_minor": 0
}
